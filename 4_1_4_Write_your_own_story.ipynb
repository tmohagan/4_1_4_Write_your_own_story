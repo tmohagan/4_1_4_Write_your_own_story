{
 "cells": [
  {
   "cell_type": "markdown",
   "metadata": {},
   "source": [
    "Write your own story"
   ]
  },
  {
   "cell_type": "markdown",
   "metadata": {},
   "source": [
    "  I would like to get into a career as a machine learning scientist.  I want to work for a company where I can get to know and understand their data.  Then figure out what data is important and not important.  That way  I can adjust or expand upon the ideas of existing ML algorithms to specifically suit the needs of the company.  By combining an understanding of the company’s data with ML algorithms, I can determine optimal solutions for the company.  While I have become proficient at manipulating and collecting data from SQL and applying ML algorithms with Python, the same concepts are easily translatable to other languages such as JavaScript, PHP, etc. depending on the specific needs of the company."
   ]
  },
  {
   "cell_type": "markdown",
   "metadata": {},
   "source": [
    "  Essentially, I would like to get into the job of predicting the future.  We collect a lot of data these days.  I can look at the inputs and find their relation to the outputs.  Then using that same relation, I can take a theoretical input and determine a theoretical output.  Because computers work very quickly, I can often look at every known input compared to every known output.  This gives me a very specific understanding of how causes relate to an effects.  Again, because computers work so quickly, I can often look at every possible choice, and determine what the result of each one of those choice would be.  Then I can just tell the company which decision will produce the best results.  "
   ]
  },
  {
   "cell_type": "markdown",
   "metadata": {},
   "source": [
    "  My ideal job would have me as a problem solver.  First, we identify a problem. Then we  understand all of the company's data.  Finally,  we effectively apply machine learning algorithms to help determine optimal operating decisions which drive us away from the problem.  Even though I became most familiar with these problem solving techniques in Python and SQL, the concepts are very universall and can be applied to any language most suitable for any company.  "
   ]
  }
 ],
 "metadata": {
  "kernelspec": {
   "display_name": "Python 3",
   "language": "python",
   "name": "python3"
  },
  "language_info": {
   "codemirror_mode": {
    "name": "ipython",
    "version": 3
   },
   "file_extension": ".py",
   "mimetype": "text/x-python",
   "name": "python",
   "nbconvert_exporter": "python",
   "pygments_lexer": "ipython3",
   "version": "3.6.8"
  }
 },
 "nbformat": 4,
 "nbformat_minor": 2
}
